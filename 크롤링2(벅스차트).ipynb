{
 "cells": [
  {
   "cell_type": "markdown",
   "metadata": {},
   "source": [
    "## Bugs 홈페이지에서 실시간 순위차트 크롤링\n",
    "- 순위, 제목, 가수, 앨범명을 추출하여 DataFrame 형태로 만들기\n",
    "- 원하는 날짜로 추출가능하게"
   ]
  },
  {
   "cell_type": "code",
   "execution_count": 77,
   "metadata": {},
   "outputs": [],
   "source": [
    "from bs4 import BeautifulSoup\n",
    "from calendar import monthrange\n",
    "import pandas\n",
    "import requests\n",
    "import time\n",
    "\n",
    "def extract_artist(tr): # 아티스트 추출 함수\n",
    "    artist_cnt = len(tr.find('p',{'class':'artist'}).find_all('a'))\n",
    "    if artist_cnt == 1:\n",
    "        artist = tr.find('p',{'class':'artist'}).text.strip()\n",
    "    else: # 아티스트 여러명일 때\n",
    "        artist = tr.find('p',{'class':'artist'}).find('a',{'class':'more'}).get('onclick')\n",
    "        alist = artist[artist.index(\"'\"):].split('||')\n",
    "        artist = []\n",
    "        for index in range(1,len(alist), 3):\n",
    "            artist.append(alist[index])\n",
    "        artist = \"/\".join(artist)\n",
    "    return artist\n",
    "\n",
    "def extract_rank(tr): # 순위 추출 함수\n",
    "    rank = tr.find('strong').text\n",
    "    return rank\n",
    "\n",
    "def extract_title(tr): # 타이틀 추출 함수 (예외처리, 음원철수)\n",
    "    try:\n",
    "        title = tr.find('p',{'class':'title'}).find('a').text.strip()\n",
    "    except:\n",
    "        title = tr.find('p',{'class':'title'}).find('span','').text.strip()\n",
    "    return title\n",
    "\n",
    "def extract_album(tr): # 앨범 추출 함수 (예외처리, 음원철수)\n",
    "    try:\n",
    "        album = tr.find('a',{'class':'album'}).text.strip()\n",
    "    except:\n",
    "        album = tr.find('span',{'class':'album'}).text.strip()\n",
    "    return album\n",
    "\n",
    "def make_html(date):    \n",
    "    url = f\"https://music.bugs.co.kr/chart/track/realtime/total?chartdate={date}\"\n",
    "    response = requests.get(url)\n",
    "    content = response.content\n",
    "    html = BeautifulSoup(content, 'html.parser')\n",
    "    return html"
   ]
  },
  {
   "cell_type": "code",
   "execution_count": 89,
   "metadata": {
    "scrolled": true
   },
   "outputs": [],
   "source": [
    "for year in range(2020, 2021, 1):  \n",
    "    for month in range(12, 13, 1):\n",
    "        days= monthrange(year,month)[1] + 1 # 월마다 일수가 다르기 때문에\n",
    "        writer = pandas.ExcelWriter(f'bugs_{year}.{month:02}.xls')   # 엑셀 한 파일에 시트별로 저장해주기\n",
    "        for day in range(1, 6, 1):\n",
    "            date = f'{year}{month:02}{day:02}' # f문자열로 날짜를 항상 8자리로 만들어줌\n",
    "            html = make_html(date)\n",
    "            table = html.find('table', {'class':\"list trackList byChart\"})\n",
    "            tr_list = table.find('tbody').find_all('tr')\n",
    "            rows = []\n",
    "            for tr in tr_list:\n",
    "                rank = extract_rank(tr)\n",
    "                title = extract_title(tr)\n",
    "                artist = extract_artist(tr)\n",
    "                album = extract_album(tr)\n",
    "                rows.append([rank,title,artist,album]) \n",
    "                \n",
    "            df = pandas.DataFrame(rows) # 추출한 것을 판다스를 활용해, 데이터프레임으로 만들기\n",
    "            df.columns=['rank','title','artist','album']\n",
    "            df.set_index('rank',inplace=True)\n",
    "            df.to_excel(writer, sheet_name = date)\n",
    "            time.sleep(3)\n",
    "    writer.save()           "
   ]
  },
  {
   "cell_type": "code",
   "execution_count": null,
   "metadata": {},
   "outputs": [],
   "source": [
    "\"\"\"\n",
    "filename = f'bugs_{date}.xls'\n",
    "df.to_excel(filename)\n",
    "\"\"\"\n"
   ]
  },
  {
   "cell_type": "code",
   "execution_count": null,
   "metadata": {},
   "outputs": [],
   "source": []
  },
  {
   "cell_type": "code",
   "execution_count": null,
   "metadata": {},
   "outputs": [],
   "source": []
  },
  {
   "cell_type": "code",
   "execution_count": null,
   "metadata": {},
   "outputs": [],
   "source": []
  }
 ],
 "metadata": {
  "kernelspec": {
   "display_name": "Python 3",
   "language": "python",
   "name": "python3"
  },
  "language_info": {
   "codemirror_mode": {
    "name": "ipython",
    "version": 3
   },
   "file_extension": ".py",
   "mimetype": "text/x-python",
   "name": "python",
   "nbconvert_exporter": "python",
   "pygments_lexer": "ipython3",
   "version": "3.9.1"
  }
 },
 "nbformat": 4,
 "nbformat_minor": 4
}
