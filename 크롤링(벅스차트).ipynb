{
 "cells": [
  {
   "cell_type": "markdown",
   "metadata": {},
   "source": [
    "## 벅스차트 TOP100"
   ]
  },
  {
   "cell_type": "code",
   "execution_count": 173,
   "metadata": {},
   "outputs": [],
   "source": [
    "from bs4 import BeautifulSoup\n",
    "import pandas\n",
    "\n",
    "file = open('bugs.htm','r',encoding='utf-8')\n",
    "read = file.read()\n",
    "html = BeautifulSoup(read,'html.parser')\n",
    "file.close()"
   ]
  },
  {
   "cell_type": "code",
   "execution_count": 174,
   "metadata": {},
   "outputs": [
    {
     "data": {
      "text/plain": [
       "1"
      ]
     },
     "execution_count": 174,
     "metadata": {},
     "output_type": "execute_result"
    }
   ],
   "source": [
    "len(html.find_all('table', {'class':\"list trackList byChart\"})) # 특정 속성명으로도 찾을 수 있음"
   ]
  },
  {
   "cell_type": "code",
   "execution_count": 175,
   "metadata": {},
   "outputs": [
    {
     "data": {
      "text/plain": [
       "100"
      ]
     },
     "execution_count": 175,
     "metadata": {},
     "output_type": "execute_result"
    }
   ],
   "source": [
    "rows = html.find('table').find('tbody')\n",
    "tr_list = rows.find_all('tr')\n",
    "len(tr_list)  # 차트의 길이까지 찾았음"
   ]
  },
  {
   "cell_type": "code",
   "execution_count": 176,
   "metadata": {},
   "outputs": [
    {
     "data": {
      "text/plain": [
       "'1'"
      ]
     },
     "execution_count": 176,
     "metadata": {},
     "output_type": "execute_result"
    }
   ],
   "source": [
    "tr = tr_list[0]\n",
    "tr.find('strong').text # 순위가 들어간 태그 찾기"
   ]
  },
  {
   "cell_type": "code",
   "execution_count": 177,
   "metadata": {
    "scrolled": true
   },
   "outputs": [
    {
     "name": "stdout",
     "output_type": "stream",
     "text": [
      "1\n",
      "2\n",
      "3\n",
      "4\n",
      "5\n",
      "6\n",
      "7\n",
      "8\n",
      "9\n",
      "10\n",
      "11\n",
      "12\n",
      "13\n",
      "14\n",
      "15\n",
      "16\n",
      "17\n",
      "18\n",
      "19\n",
      "20\n",
      "21\n",
      "22\n",
      "23\n",
      "24\n",
      "25\n",
      "26\n",
      "27\n",
      "28\n",
      "29\n",
      "30\n",
      "31\n",
      "32\n",
      "33\n",
      "34\n",
      "35\n",
      "36\n",
      "37\n",
      "38\n",
      "39\n",
      "40\n",
      "41\n",
      "42\n",
      "43\n",
      "44\n",
      "45\n",
      "46\n",
      "47\n",
      "48\n",
      "49\n",
      "50\n",
      "51\n",
      "52\n",
      "53\n",
      "54\n",
      "55\n",
      "56\n",
      "57\n",
      "58\n",
      "59\n",
      "60\n",
      "61\n",
      "62\n",
      "63\n",
      "64\n",
      "65\n",
      "66\n",
      "67\n",
      "68\n",
      "69\n",
      "70\n",
      "71\n",
      "72\n",
      "73\n",
      "74\n",
      "75\n",
      "76\n",
      "77\n",
      "78\n",
      "79\n",
      "80\n",
      "81\n",
      "82\n",
      "83\n",
      "84\n",
      "85\n",
      "86\n",
      "87\n",
      "88\n",
      "89\n",
      "90\n",
      "91\n",
      "92\n",
      "93\n",
      "94\n",
      "95\n",
      "96\n",
      "97\n",
      "98\n",
      "99\n",
      "100\n"
     ]
    }
   ],
   "source": [
    "for tr in tr_list:\n",
    "    rank = tr.find('strong').text\n",
    "    print(rank) # 순위 랭크에 담기"
   ]
  },
  {
   "cell_type": "code",
   "execution_count": 178,
   "metadata": {},
   "outputs": [
    {
     "data": {
      "text/plain": [
       "'For You (Feat. Crush)'"
      ]
     },
     "execution_count": 178,
     "metadata": {},
     "output_type": "execute_result"
    }
   ],
   "source": [
    "tr = tr_list[0]\n",
    "tr.find('p',{'class':'title'}).text.strip() # 텍스트만 추출 후, 스트립 함수로 정제해줌"
   ]
  },
  {
   "cell_type": "code",
   "execution_count": 179,
   "metadata": {},
   "outputs": [
    {
     "data": {
      "text/plain": [
       "'이하이'"
      ]
     },
     "execution_count": 179,
     "metadata": {},
     "output_type": "execute_result"
    }
   ],
   "source": [
    "tr = tr_list[0]\n",
    "tr.find('p',{'class':'artist'}).text.strip() # 아티스트 들어간 태그 찾기"
   ]
  },
  {
   "cell_type": "code",
   "execution_count": 180,
   "metadata": {},
   "outputs": [
    {
     "data": {
      "text/plain": [
       "'For You'"
      ]
     },
     "execution_count": 180,
     "metadata": {},
     "output_type": "execute_result"
    }
   ],
   "source": [
    "tr = tr_list[0]\n",
    "tr.find('a',{'class':'album'}).text # 앨범명 들어간 태그 찾기"
   ]
  },
  {
   "cell_type": "code",
   "execution_count": 181,
   "metadata": {
    "scrolled": true
   },
   "outputs": [
    {
     "data": {
      "text/plain": [
       "[['1', 'For You (Feat. Crush)', '이하이', 'For You'],\n",
       " ['2',\n",
       "  'What Do I Call You',\n",
       "  '태연 (TAEYEON)',\n",
       "  'What Do I Call You - The 4th Mini Album'],\n",
       " ['3', '입김', '10CM', '5.1'],\n",
       " ['4', 'CREDIT (Feat. 염따, 기리보이, Zion.T)', '릴보이(lIlBOI)', '쇼미더머니 9 Final'],\n",
       " ['5', 'Dynamite', '방탄소년단', 'Dynamite (DayTime Version)'],\n",
       " ['6',\n",
       "  'All I Want for Christmas Is You',\n",
       "  'Mariah Carey(머라이어 캐리)',\n",
       "  'Merry Christmas (Deluxe Anniversary Edition)'],\n",
       " ['7',\n",
       "  'VVS (Feat. JUSTHIS) (Prod. GroovyRoom)',\n",
       "  '미란이/먼치맨/KHUNDI PANDA/머쉬베놈(MUSHVENOM)',\n",
       "  '쇼미더머니 9 Episode 1'],\n",
       " ['8', 'Santa Tell Me', 'Ariana Grande(아리아나 그란데)', 'Santa Tell Me'],\n",
       " ['9', 'ON AIR (Feat. 로꼬, 박재범 & GRAY)', '릴보이(lIlBOI)', '쇼미더머니 9 Final'],\n",
       " ['10', '서로를 위한 것', '나얼(Na-Ul)', '서로를 위한 것'],\n",
       " ['11', 'Life Goes On', '방탄소년단', 'BE'],\n",
       " ['12', '밤하늘의 별을(2020)', '경서', '밤하늘의 별을(2020)'],\n",
       " ['13', '미리 메리 크리스마스 (feat. 천둥 Of MBLAQ)', '아이유(IU)', 'Real'],\n",
       " ['14', '사랑이었나봐', '기리보이', '9컷'],\n",
       " ['15', 'Snowman', 'Sia(시아)', 'Everyday Is Christmas [Deluxe]'],\n",
       " ['16', '잠이 오질 않네요', '장범준', '잠이 오질 않네요'],\n",
       " ['17',\n",
       "  '악역 (Feat. 이하이 & 사이먼 도미닉) (Prod. 코드 쿤스트)',\n",
       "  '스윙스(Swings)',\n",
       "  '쇼미더머니 9 Semi Final'],\n",
       " ['18', 'Panorama', 'IZ*ONE(아이즈원)', 'One-reeler / Act IV'],\n",
       " ['19', 'Lovesick Girls', 'BLACKPINK', 'THE ALBUM'],\n",
       " ['20', '취기를 빌려 (취향저격 그녀 X 산들)', '산들', '취기를 빌려 (취향저격 그녀 X 산들)'],\n",
       " ['21',\n",
       "  '크리스마스니까',\n",
       "  '성시경/박효신/이석훈/서인국/VIXX(빅스)',\n",
       "  'Jelly Christmas 2012 HEART PROJECT'],\n",
       " ['22', 'Lovegame', '백예린 (Yerin Baek)', 'tellusboutyourself'],\n",
       " ['23',\n",
       "  '내일이 오면 (Feat. 기리보이, BIG Naughty (서동현))',\n",
       "  '릴보이(lIlBOI)',\n",
       "  '쇼미더머니 9 Episode 3'],\n",
       " ['24',\n",
       "  'Achoo (Feat. pH-1, HAON) (Prod. GroovyRoom)',\n",
       "  '미란이',\n",
       "  '쇼미더머니 9 Episode 3'],\n",
       " ['25',\n",
       "  '여백의 미 (Feat. Jessi, JUSTHIS) (Prod. GroovyRoom)',\n",
       "  '머쉬베놈(MUSHVENOM)',\n",
       "  '쇼미더머니 9 Final'],\n",
       " ['26', '불면증 (Vocal by 윤하)', '에피톤 프로젝트(Epitone Project)', '불면증 (Vocal by 윤하)'],\n",
       " ['27', '가을밤에 든 생각', '잔나비', '잔나비 소곡집 l'],\n",
       " ['28', '사라진 모든 것들에게(with ELLE KOREA)', '코드 쿤스트/잔나비 최정훈/사이먼 도미닉', 'RECONNECT'],\n",
       " ['29', 'Black Mamba', 'aespa', 'Black Mamba'],\n",
       " ['30', '나랑 같이 걸을래 (바른연애 길잡이 X 적재)', '적재', '나랑 같이 걸을래 (바른연애 길잡이 X 적재)'],\n",
       " ['31', '에잇(Prod.&Feat. SUGA of BTS)', '아이유(IU)', '에잇'],\n",
       " ['32', '휘파람', '싱어게인 63호 가수', '싱어게인 - 무명가수전 Episode.6'],\n",
       " ['33', 'Playlist', '태연 (TAEYEON)', 'What Do I Call You - The 4th Mini Album'],\n",
       " ['34',\n",
       "  '가다 (Feat. 사이먼 도미닉, The Quiett) (Prod. SLO)',\n",
       "  '머쉬베놈(MUSHVENOM)',\n",
       "  '쇼미더머니 9 Final'],\n",
       " ['35', '힘든 건 사랑이 아니다', '임창정', '힘든 건 사랑이 아니다'],\n",
       " ['36', '이제 나만 믿어요', '임영웅', '내일은 미스터트롯 우승자 특전곡'],\n",
       " ['37', '흔들리는 꽃들 속에서 네 샴푸향이 느껴진거야', '장범준', '멜로가 체질 OST Part 3'],\n",
       " ['38', '잘할게', '이승기', 'The Project'],\n",
       " ['39', '오래된 노래', '스탠딩 에그(Standing Egg)', '오래된 노래'],\n",
       " ['40',\n",
       "  'Savage Love (Laxed - Siren Beat) (BTS Remix)',\n",
       "  'Jawsh 685/Jason Derulo(제이슨 데룰로)/방탄소년단',\n",
       "  'Savage Love (Laxed - Siren Beat) [BTS Remix]'],\n",
       " ['41',\n",
       "  'Text Me Merry Christmas (feat. Kristen Bell)',\n",
       "  'Straight No Chaser(스트레이트 노 체이서)',\n",
       "  'Under The Influence: Holiday Edition'],\n",
       " ['42', 'Christmas Without You', 'Ava Max', 'Christmas Without You'],\n",
       " ['43', 'I CAN’T STOP ME', 'TWICE (트와이스)', 'Eyes wide open'],\n",
       " ['44', '어떻게 이별까지 사랑하겠어, 널 사랑하는 거지', 'AKMU (악동뮤지션)', '항해'],\n",
       " ['45', 'Hate you', '백예린 (Yerin Baek)', 'tellusboutyourself'],\n",
       " ['46', '딩가딩가 (Dingga)', '마마무(Mamamoo)', '딩가딩가 (Dingga)'],\n",
       " ['47', 'MAGO', '여자친구(GFRIEND)', '回:Walpurgis Night'],\n",
       " ['48',\n",
       "  '뿌리 (Feat. JUSTHIS) (Prod. GroovyRoom)',\n",
       "  'KHUNDI PANDA',\n",
       "  '쇼미더머니 9 Episode 3'],\n",
       " ['49', '혼술하고 싶은 밤', '벤', '혼술하고 싶은 밤'],\n",
       " ['50', 'Blueming', '아이유(IU)', 'Love poem'],\n",
       " ['51',\n",
       "  '겨울의 우리들',\n",
       "  '토이(Toy)/정승환/샘김(Sam Kim)/정재형/루시드폴/페퍼톤스(Peppertones)/박새별/권진아/이진아/윤석철/적재/CHAI(이수정)/서동환',\n",
       "  '2020 Antenna Christmas Carol'],\n",
       " ['52', 'Must Have Love (우리들의 겨울)', 'SG워너비/브라운 아이드 걸스', 'SG워너비 & 브라운 아이드 걸스'],\n",
       " ['53', 'Dolphin', '오마이걸(OH MY GIRL)', 'NONSTOP'],\n",
       " ['54', \"DON'T TOUCH ME\", '환불원정대', \"DON'T TOUCH ME\"],\n",
       " ['55', '나란히', '비와이(BewhY)', '스위트홈 OST'],\n",
       " ['56', '아로하', '조정석', '슬기로운 의사생활 OST Part 3'],\n",
       " ['57', '34+35', 'Ariana Grande(아리아나 그란데)', 'Positions'],\n",
       " ['58', 'How You Like That', 'BLACKPINK', 'How You Like That'],\n",
       " ['59', 'Square (2017)', '백예린 (Yerin Baek)', 'Every letter I sent you.'],\n",
       " ['60', 'Last Christmas', 'Wham!(왬)', 'LAST CHRISTMAS'],\n",
       " ['61', 'HERO', '임영웅', 'HERO'],\n",
       " ['62', '어김없이 이 거리에', '정승환', '어김없이 이 거리에'],\n",
       " ['63', '놀이공원 (Amusement Park)', '백현(BAEKHYUN)', '놀이공원 (Amusement Park)'],\n",
       " ['64', '마리아 (Maria)', '화사(Hwa Sa)', 'María'],\n",
       " ['65', '마음을 드려요', '아이유(IU)', '사랑의 불시착 OST Part 11'],\n",
       " ['66', '너도 아는', '폴킴(Paul Kim)', '너도 아는'],\n",
       " ['67', 'Bad Boy', '청하/Christopher(크리스토퍼)', 'Bad Boy'],\n",
       " ['68',\n",
       "  '내 마음이 움찔했던 순간 (취향저격 그녀 X 규현)',\n",
       "  '규현 (KYUHYUN)',\n",
       "  '내 마음이 움찔했던 순간 (취향저격 그녀 X 규현)'],\n",
       " ['69', '적외선 카메라', '원슈타인', '쇼미더머니 9 Episode 3'],\n",
       " ['70',\n",
       "  'To the moon',\n",
       "  '태연 (TAEYEON)',\n",
       "  'What Do I Call You - The 4th Mini Album'],\n",
       " ['71',\n",
       "  '고독하구만 (Feat. 수퍼비) (Prod. GroovyRoom)',\n",
       "  '머쉬베놈(MUSHVENOM)',\n",
       "  '쇼미더머니 9 Semi Final'],\n",
       " ['72', 'When We Disco (Duet with 선미)', '박진영', 'When We Disco'],\n",
       " ['73', 'METEOR', '창모(CHANGMO)', 'Boyhood'],\n",
       " ['74', '한잔이면 지워질까', '황인욱', '한잔이면 지워질까'],\n",
       " ['75',\n",
       "  '모든 날, 모든 순간 (Every day, Every Moment)',\n",
       "  '폴킴(Paul Kim)',\n",
       "  \"'키스 먼저 할까요?' OST Part.3\"],\n",
       " ['76', 'HAPPENING', 'AKMU (악동뮤지션)', 'HAPPENING'],\n",
       " ['77',\n",
       "  '들불 (Wildfire)',\n",
       "  '태연 (TAEYEON)',\n",
       "  'What Do I Call You - The 4th Mini Album'],\n",
       " ['78', 'Galaxy', '태연 (TAEYEON)', 'What Do I Call You - The 4th Mini Album'],\n",
       " ['79', '밤새 (취향저격 그녀 X 카더가든)', '카더가든', '밤새 (취향저격 그녀 X 카더가든)'],\n",
       " ['80', '한 번에 알아본 사랑 (바른연애 길잡이 X 양요섭)', '양요섭', '한 번에 알아본 사랑 (바른연애 길잡이 X 양요섭)'],\n",
       " ['81',\n",
       "  'Freak (Prod. Slom)',\n",
       "  '릴보이(lIlBOI)/원슈타인/Chillin Homie/스카이민혁(Skyminhyuk)',\n",
       "  '쇼미더머니 9 Episode 1'],\n",
       " ['82', '시작', '가호(Gaho)', '이태원 클라쓰 OST Part.2'],\n",
       " ['83', '어느 60대 노부부이야기', '임영웅', '내일은 미스터트롯 트롯 에이드 베스트'],\n",
       " ['84', '주저하는 연인들을 위해', '잔나비', '전설'],\n",
       " ['85', 'Memories', 'Maroon 5(마룬 파이브)', 'Memories'],\n",
       " ['86', '서울 가 살자', '전유진', '내일은 미스트롯2 예선전 베스트 PART2'],\n",
       " ['87', 'CRY FOR ME', 'TWICE (트와이스)', 'CRY FOR ME'],\n",
       " ['88', '어떻게 지내 (Prod. By VAN.C)', '오반 (OVAN)', '어떻게 지내'],\n",
       " ['89', '첫 눈', 'EXO', \"겨울 스페셜 앨범 '12월의 기적 (Miracles in December)’\"],\n",
       " ['90', 'Better', '보아 (BoA)', 'BETTER – The 10th Album'],\n",
       " ['91', '뻔한남자', '이승기', '뻔한남자'],\n",
       " ['92', '살짝 설렜어 (Nonstop)', '오마이걸(OH MY GIRL)', 'NONSTOP'],\n",
       " ['93', '밤편지', '아이유(IU)', '밤편지'],\n",
       " ['94',\n",
       "  'Oh Santa! (feat. Ariana Grande, Jennifer Hudson)',\n",
       "  'Mariah Carey(머라이어 캐리)',\n",
       "  'Oh Santa!'],\n",
       " ['95', '늦은 밤 너의 집 앞 골목길에서', '노을', '늦은 밤 너의 집 앞 골목길에서'],\n",
       " ['96', 'Love poem', '아이유(IU)', 'Love poem'],\n",
       " ['97',\n",
       "  '작은 것들을 위한 시 (Boy With Luv) (Feat. Halsey)',\n",
       "  '방탄소년단/Halsey(할시)',\n",
       "  'MAP OF THE SOUL : PERSONA'],\n",
       " ['98', '사랑은 (Feat.원슈타인)', '마미손', '나의슬픔(My Sadness)'],\n",
       " ['99', 'AYA', '마마무(Mamamoo)', 'TRAVEL'],\n",
       " ['100', 'SO BAD', 'STAYC(스테이씨)', 'Star To A Young Culture']]"
      ]
     },
     "execution_count": 181,
     "metadata": {},
     "output_type": "execute_result"
    }
   ],
   "source": [
    "rows = []\n",
    "for tr in tr_list:\n",
    "    row = []\n",
    "    rank = extract_rank(tr)\n",
    "    title = extract_title(tr)\n",
    "    artist = extract_artist(tr)\n",
    "    album = extract_album(tr)\n",
    "    rows.append([rank,title,artist,album]) \n",
    "rows"
   ]
  },
  {
   "cell_type": "code",
   "execution_count": 182,
   "metadata": {
    "scrolled": true
   },
   "outputs": [],
   "source": [
    "def extract_artist(tr): # 아티스트 추출 함수\n",
    "    artist_cnt = len(tr.find('p',{'class':'artist'}).find_all('a'))\n",
    "    if artist_cnt == 1:\n",
    "        artist = tr.find('p',{'class':'artist'}).text.strip()\n",
    "    else: # 아티스트 여러명일 때\n",
    "        artist = tr.find('p',{'class':'artist'}).find('a',{'class':'more'}).get('onclick')\n",
    "        alist = artist[artist.index(\"'\"):].split('||')\n",
    "        artist = []\n",
    "        for index in range(1,len(alist), 3):\n",
    "            artist.append(alist[index])\n",
    "        artist = \"/\".join(artist)\n",
    "    return artist"
   ]
  },
  {
   "cell_type": "code",
   "execution_count": 183,
   "metadata": {},
   "outputs": [],
   "source": [
    "def extract_rank(tr): # 순위 추출 함수\n",
    "    rank = tr.find('strong').text\n",
    "    return rank"
   ]
  },
  {
   "cell_type": "code",
   "execution_count": 184,
   "metadata": {},
   "outputs": [],
   "source": [
    "def extract_title(tr): # 타이틀 추출 함수\n",
    "    title = tr.find('p',{'class':'title'}).find('a').text.strip()\n",
    "    return title"
   ]
  },
  {
   "cell_type": "code",
   "execution_count": 185,
   "metadata": {},
   "outputs": [],
   "source": [
    "def extract_album(tr): # 앨범 추출 함수\n",
    "    album = tr.find('a',{'class':'album'}).text.strip()\n",
    "    return album"
   ]
  },
  {
   "cell_type": "code",
   "execution_count": 186,
   "metadata": {},
   "outputs": [
    {
     "data": {
      "text/html": [
       "<div>\n",
       "<style scoped>\n",
       "    .dataframe tbody tr th:only-of-type {\n",
       "        vertical-align: middle;\n",
       "    }\n",
       "\n",
       "    .dataframe tbody tr th {\n",
       "        vertical-align: top;\n",
       "    }\n",
       "\n",
       "    .dataframe thead th {\n",
       "        text-align: right;\n",
       "    }\n",
       "</style>\n",
       "<table border=\"1\" class=\"dataframe\">\n",
       "  <thead>\n",
       "    <tr style=\"text-align: right;\">\n",
       "      <th></th>\n",
       "      <th>title</th>\n",
       "      <th>artist</th>\n",
       "      <th>album</th>\n",
       "    </tr>\n",
       "    <tr>\n",
       "      <th>rank</th>\n",
       "      <th></th>\n",
       "      <th></th>\n",
       "      <th></th>\n",
       "    </tr>\n",
       "  </thead>\n",
       "  <tbody>\n",
       "    <tr>\n",
       "      <th>1</th>\n",
       "      <td>For You (Feat. Crush)</td>\n",
       "      <td>이하이</td>\n",
       "      <td>For You</td>\n",
       "    </tr>\n",
       "    <tr>\n",
       "      <th>2</th>\n",
       "      <td>What Do I Call You</td>\n",
       "      <td>태연 (TAEYEON)</td>\n",
       "      <td>What Do I Call You - The 4th Mini Album</td>\n",
       "    </tr>\n",
       "    <tr>\n",
       "      <th>3</th>\n",
       "      <td>입김</td>\n",
       "      <td>10CM</td>\n",
       "      <td>5.1</td>\n",
       "    </tr>\n",
       "    <tr>\n",
       "      <th>4</th>\n",
       "      <td>CREDIT (Feat. 염따, 기리보이, Zion.T)</td>\n",
       "      <td>릴보이(lIlBOI)</td>\n",
       "      <td>쇼미더머니 9 Final</td>\n",
       "    </tr>\n",
       "    <tr>\n",
       "      <th>5</th>\n",
       "      <td>Dynamite</td>\n",
       "      <td>방탄소년단</td>\n",
       "      <td>Dynamite (DayTime Version)</td>\n",
       "    </tr>\n",
       "    <tr>\n",
       "      <th>...</th>\n",
       "      <td>...</td>\n",
       "      <td>...</td>\n",
       "      <td>...</td>\n",
       "    </tr>\n",
       "    <tr>\n",
       "      <th>96</th>\n",
       "      <td>Love poem</td>\n",
       "      <td>아이유(IU)</td>\n",
       "      <td>Love poem</td>\n",
       "    </tr>\n",
       "    <tr>\n",
       "      <th>97</th>\n",
       "      <td>작은 것들을 위한 시 (Boy With Luv) (Feat. Halsey)</td>\n",
       "      <td>방탄소년단/Halsey(할시)</td>\n",
       "      <td>MAP OF THE SOUL : PERSONA</td>\n",
       "    </tr>\n",
       "    <tr>\n",
       "      <th>98</th>\n",
       "      <td>사랑은 (Feat.원슈타인)</td>\n",
       "      <td>마미손</td>\n",
       "      <td>나의슬픔(My Sadness)</td>\n",
       "    </tr>\n",
       "    <tr>\n",
       "      <th>99</th>\n",
       "      <td>AYA</td>\n",
       "      <td>마마무(Mamamoo)</td>\n",
       "      <td>TRAVEL</td>\n",
       "    </tr>\n",
       "    <tr>\n",
       "      <th>100</th>\n",
       "      <td>SO BAD</td>\n",
       "      <td>STAYC(스테이씨)</td>\n",
       "      <td>Star To A Young Culture</td>\n",
       "    </tr>\n",
       "  </tbody>\n",
       "</table>\n",
       "<p>100 rows × 3 columns</p>\n",
       "</div>"
      ],
      "text/plain": [
       "                                          title            artist  \\\n",
       "rank                                                                \n",
       "1                         For You (Feat. Crush)               이하이   \n",
       "2                            What Do I Call You      태연 (TAEYEON)   \n",
       "3                                            입김              10CM   \n",
       "4               CREDIT (Feat. 염따, 기리보이, Zion.T)       릴보이(lIlBOI)   \n",
       "5                                      Dynamite             방탄소년단   \n",
       "...                                         ...               ...   \n",
       "96                                    Love poem           아이유(IU)   \n",
       "97    작은 것들을 위한 시 (Boy With Luv) (Feat. Halsey)  방탄소년단/Halsey(할시)   \n",
       "98                              사랑은 (Feat.원슈타인)               마미손   \n",
       "99                                          AYA      마마무(Mamamoo)   \n",
       "100                                      SO BAD       STAYC(스테이씨)   \n",
       "\n",
       "                                        album  \n",
       "rank                                           \n",
       "1                                     For You  \n",
       "2     What Do I Call You - The 4th Mini Album  \n",
       "3                                         5.1  \n",
       "4                               쇼미더머니 9 Final  \n",
       "5                  Dynamite (DayTime Version)  \n",
       "...                                       ...  \n",
       "96                                  Love poem  \n",
       "97                  MAP OF THE SOUL : PERSONA  \n",
       "98                           나의슬픔(My Sadness)  \n",
       "99                                     TRAVEL  \n",
       "100                   Star To A Young Culture  \n",
       "\n",
       "[100 rows x 3 columns]"
      ]
     },
     "execution_count": 186,
     "metadata": {},
     "output_type": "execute_result"
    }
   ],
   "source": [
    "df = pandas.DataFrame(rows) # 추출한 것을 판다스를 활용해, 데이터프레임으로 만들기\n",
    "df.columns=['rank','title','artist','album']\n",
    "df.set_index('rank',inplace=True)\n",
    "df.to_excel('bugs_chart.xls')\n",
    "df"
   ]
  },
  {
   "cell_type": "code",
   "execution_count": null,
   "metadata": {},
   "outputs": [],
   "source": []
  }
 ],
 "metadata": {
  "kernelspec": {
   "display_name": "Python 3",
   "language": "python",
   "name": "python3"
  },
  "language_info": {
   "codemirror_mode": {
    "name": "ipython",
    "version": 3
   },
   "file_extension": ".py",
   "mimetype": "text/x-python",
   "name": "python",
   "nbconvert_exporter": "python",
   "pygments_lexer": "ipython3",
   "version": "3.9.1"
  }
 },
 "nbformat": 4,
 "nbformat_minor": 4
}
